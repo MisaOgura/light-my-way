{
 "cells": [
  {
   "cell_type": "code",
   "execution_count": 1,
   "metadata": {},
   "outputs": [],
   "source": [
    "import pandas as pd"
   ]
  },
  {
   "cell_type": "markdown",
   "metadata": {},
   "source": [
    "## Overview of Met Police and City of London Police datasets (on street crime)"
   ]
  },
  {
   "cell_type": "code",
   "execution_count": 2,
   "metadata": {},
   "outputs": [
    {
     "name": "stdout",
     "output_type": "stream",
     "text": [
      "<class 'pandas.core.frame.DataFrame'>\n",
      "RangeIndex: 95677 entries, 0 to 95676\n",
      "Data columns (total 12 columns):\n",
      "Crime ID                 74480 non-null object\n",
      "Month                    95677 non-null object\n",
      "Reported by              95677 non-null object\n",
      "Falls within             95677 non-null object\n",
      "Longitude                94577 non-null float64\n",
      "Latitude                 94577 non-null float64\n",
      "Location                 95677 non-null object\n",
      "LSOA code                94577 non-null object\n",
      "LSOA name                94577 non-null object\n",
      "Crime type               95677 non-null object\n",
      "Last outcome category    74480 non-null object\n",
      "Context                  0 non-null float64\n",
      "dtypes: float64(3), object(9)\n",
      "memory usage: 8.8+ MB\n",
      "None\n"
     ]
    }
   ],
   "source": [
    "met_df = pd.read_csv('../data/2018-07-metropolitan-street.csv')\n",
    "\n",
    "print(met_df.info())"
   ]
  },
  {
   "cell_type": "code",
   "execution_count": 3,
   "metadata": {},
   "outputs": [
    {
     "name": "stdout",
     "output_type": "stream",
     "text": [
      "<class 'pandas.core.frame.DataFrame'>\n",
      "RangeIndex: 859 entries, 0 to 858\n",
      "Data columns (total 12 columns):\n",
      "Crime ID                 627 non-null object\n",
      "Month                    859 non-null object\n",
      "Reported by              859 non-null object\n",
      "Falls within             859 non-null object\n",
      "Longitude                778 non-null float64\n",
      "Latitude                 778 non-null float64\n",
      "Location                 859 non-null object\n",
      "LSOA code                778 non-null object\n",
      "LSOA name                778 non-null object\n",
      "Crime type               859 non-null object\n",
      "Last outcome category    627 non-null object\n",
      "Context                  0 non-null float64\n",
      "dtypes: float64(3), object(9)\n",
      "memory usage: 80.6+ KB\n",
      "None\n"
     ]
    },
    {
     "data": {
      "text/html": [
       "<div>\n",
       "<style scoped>\n",
       "    .dataframe tbody tr th:only-of-type {\n",
       "        vertical-align: middle;\n",
       "    }\n",
       "\n",
       "    .dataframe tbody tr th {\n",
       "        vertical-align: top;\n",
       "    }\n",
       "\n",
       "    .dataframe thead th {\n",
       "        text-align: right;\n",
       "    }\n",
       "</style>\n",
       "<table border=\"1\" class=\"dataframe\">\n",
       "  <thead>\n",
       "    <tr style=\"text-align: right;\">\n",
       "      <th></th>\n",
       "      <th>Crime ID</th>\n",
       "      <th>Month</th>\n",
       "      <th>Reported by</th>\n",
       "      <th>Falls within</th>\n",
       "      <th>Longitude</th>\n",
       "      <th>Latitude</th>\n",
       "      <th>Location</th>\n",
       "      <th>LSOA code</th>\n",
       "      <th>LSOA name</th>\n",
       "      <th>Crime type</th>\n",
       "      <th>Last outcome category</th>\n",
       "      <th>Context</th>\n",
       "    </tr>\n",
       "  </thead>\n",
       "  <tbody>\n",
       "    <tr>\n",
       "      <th>0</th>\n",
       "      <td>bf66549a084866d616a3f972ad9ad2bbbda6651ca48266...</td>\n",
       "      <td>2018-07</td>\n",
       "      <td>City of London Police</td>\n",
       "      <td>City of London Police</td>\n",
       "      <td>-0.119224</td>\n",
       "      <td>51.529042</td>\n",
       "      <td>On or near Hospital</td>\n",
       "      <td>E01000939</td>\n",
       "      <td>Camden 024C</td>\n",
       "      <td>Other theft</td>\n",
       "      <td>Investigation complete; no suspect identified</td>\n",
       "      <td>NaN</td>\n",
       "    </tr>\n",
       "    <tr>\n",
       "      <th>1</th>\n",
       "      <td>NaN</td>\n",
       "      <td>2018-07</td>\n",
       "      <td>City of London Police</td>\n",
       "      <td>City of London Police</td>\n",
       "      <td>-0.106453</td>\n",
       "      <td>51.518207</td>\n",
       "      <td>On or near Charterhouse Street</td>\n",
       "      <td>E01000916</td>\n",
       "      <td>Camden 027B</td>\n",
       "      <td>Anti-social behaviour</td>\n",
       "      <td>NaN</td>\n",
       "      <td>NaN</td>\n",
       "    </tr>\n",
       "    <tr>\n",
       "      <th>2</th>\n",
       "      <td>NaN</td>\n",
       "      <td>2018-07</td>\n",
       "      <td>City of London Police</td>\n",
       "      <td>City of London Police</td>\n",
       "      <td>-0.111497</td>\n",
       "      <td>51.518226</td>\n",
       "      <td>On or near Pedestrian Subway</td>\n",
       "      <td>E01000914</td>\n",
       "      <td>Camden 028B</td>\n",
       "      <td>Anti-social behaviour</td>\n",
       "      <td>NaN</td>\n",
       "      <td>NaN</td>\n",
       "    </tr>\n",
       "    <tr>\n",
       "      <th>3</th>\n",
       "      <td>NaN</td>\n",
       "      <td>2018-07</td>\n",
       "      <td>City of London Police</td>\n",
       "      <td>City of London Police</td>\n",
       "      <td>-0.111497</td>\n",
       "      <td>51.518226</td>\n",
       "      <td>On or near Pedestrian Subway</td>\n",
       "      <td>E01000914</td>\n",
       "      <td>Camden 028B</td>\n",
       "      <td>Anti-social behaviour</td>\n",
       "      <td>NaN</td>\n",
       "      <td>NaN</td>\n",
       "    </tr>\n",
       "    <tr>\n",
       "      <th>4</th>\n",
       "      <td>NaN</td>\n",
       "      <td>2018-07</td>\n",
       "      <td>City of London Police</td>\n",
       "      <td>City of London Police</td>\n",
       "      <td>-0.111497</td>\n",
       "      <td>51.518226</td>\n",
       "      <td>On or near Pedestrian Subway</td>\n",
       "      <td>E01000914</td>\n",
       "      <td>Camden 028B</td>\n",
       "      <td>Anti-social behaviour</td>\n",
       "      <td>NaN</td>\n",
       "      <td>NaN</td>\n",
       "    </tr>\n",
       "  </tbody>\n",
       "</table>\n",
       "</div>"
      ],
      "text/plain": [
       "                                            Crime ID    Month  \\\n",
       "0  bf66549a084866d616a3f972ad9ad2bbbda6651ca48266...  2018-07   \n",
       "1                                                NaN  2018-07   \n",
       "2                                                NaN  2018-07   \n",
       "3                                                NaN  2018-07   \n",
       "4                                                NaN  2018-07   \n",
       "\n",
       "             Reported by           Falls within  Longitude   Latitude  \\\n",
       "0  City of London Police  City of London Police  -0.119224  51.529042   \n",
       "1  City of London Police  City of London Police  -0.106453  51.518207   \n",
       "2  City of London Police  City of London Police  -0.111497  51.518226   \n",
       "3  City of London Police  City of London Police  -0.111497  51.518226   \n",
       "4  City of London Police  City of London Police  -0.111497  51.518226   \n",
       "\n",
       "                         Location  LSOA code    LSOA name  \\\n",
       "0             On or near Hospital  E01000939  Camden 024C   \n",
       "1  On or near Charterhouse Street  E01000916  Camden 027B   \n",
       "2    On or near Pedestrian Subway  E01000914  Camden 028B   \n",
       "3    On or near Pedestrian Subway  E01000914  Camden 028B   \n",
       "4    On or near Pedestrian Subway  E01000914  Camden 028B   \n",
       "\n",
       "              Crime type                          Last outcome category  \\\n",
       "0            Other theft  Investigation complete; no suspect identified   \n",
       "1  Anti-social behaviour                                            NaN   \n",
       "2  Anti-social behaviour                                            NaN   \n",
       "3  Anti-social behaviour                                            NaN   \n",
       "4  Anti-social behaviour                                            NaN   \n",
       "\n",
       "   Context  \n",
       "0      NaN  \n",
       "1      NaN  \n",
       "2      NaN  \n",
       "3      NaN  \n",
       "4      NaN  "
      ]
     },
     "execution_count": 3,
     "metadata": {},
     "output_type": "execute_result"
    }
   ],
   "source": [
    "city_df = pd.read_csv('../data/2018-07-city-of-london-street.csv')\n",
    "\n",
    "print(city_df.info())\n",
    "\n",
    "city_df.head()"
   ]
  },
  {
   "cell_type": "code",
   "execution_count": 4,
   "metadata": {},
   "outputs": [],
   "source": [
    "london_df = pd.concat([met_df, city_df], ignore_index=True).dropna(subset=['Longitude', 'Latitude'])"
   ]
  },
  {
   "cell_type": "code",
   "execution_count": 5,
   "metadata": {},
   "outputs": [],
   "source": [
    "london_df['Coordinate'] = london_df.apply(lambda x: (x['Longitude'], x['Latitude']), axis=1)"
   ]
  },
  {
   "cell_type": "code",
   "execution_count": 6,
   "metadata": {},
   "outputs": [
    {
     "data": {
      "text/plain": [
       "33513"
      ]
     },
     "execution_count": 6,
     "metadata": {},
     "output_type": "execute_result"
    }
   ],
   "source": [
    "crime_freq = london_df.groupby('Coordinate').size()\n",
    "crime_freq.count()"
   ]
  },
  {
   "cell_type": "code",
   "execution_count": 7,
   "metadata": {},
   "outputs": [
    {
     "data": {
      "text/plain": [
       "Coordinate\n",
       "(-5.482662, 50.211896)              2\n",
       "(-3.3954779999999998, 51.951301)    1\n",
       "(-3.191991, 51.46346)               1\n",
       "(-3.016167, 53.3255)                1\n",
       "(-2.9570790000000002, 53.473227)    1\n",
       "dtype: int64"
      ]
     },
     "execution_count": 7,
     "metadata": {},
     "output_type": "execute_result"
    }
   ],
   "source": [
    "crime_freq.head()"
   ]
  },
  {
   "cell_type": "code",
   "execution_count": 8,
   "metadata": {},
   "outputs": [
    {
     "name": "stdout",
     "output_type": "stream",
     "text": [
      "1\n",
      "239\n"
     ]
    }
   ],
   "source": [
    "print(crime_freq.min())\n",
    "print(crime_freq.max())"
   ]
  },
  {
   "cell_type": "code",
   "execution_count": 9,
   "metadata": {},
   "outputs": [],
   "source": [
    "import json\n",
    "\n",
    "with open('./template.geojson', 'r') as template:\n",
    "    template = json.load(template)\n",
    "    \n",
    "    for index, value in crime_freq.iteritems():\n",
    "        data = {\n",
    "            'type': 'Feature',\n",
    "            'properties': {\n",
    "                'crimes': value\n",
    "            },\n",
    "            'geometry': {\n",
    "                'type': 'Point',\n",
    "                'coordinates': [index[0], index[1]]\n",
    "            }\n",
    "        }\n",
    "        \n",
    "        template['features'].append(data)\n",
    "\n",
    "with open('../london_july_2018.geojson', 'w') as output:\n",
    "    json.dump(template, output)"
   ]
  },
  {
   "cell_type": "code",
   "execution_count": 10,
   "metadata": {},
   "outputs": [
    {
     "name": "stdout",
     "output_type": "stream",
     "text": [
      "33513\n"
     ]
    }
   ],
   "source": [
    "print(len(template['features']))"
   ]
  },
  {
   "cell_type": "code",
   "execution_count": 11,
   "metadata": {},
   "outputs": [
    {
     "data": {
      "text/plain": [
       "{'geometry': {'coordinates': [-5.482662, 50.211896], 'type': 'Point'},\n",
       " 'properties': {'crimes': 2},\n",
       " 'type': 'Feature'}"
      ]
     },
     "execution_count": 11,
     "metadata": {},
     "output_type": "execute_result"
    }
   ],
   "source": [
    "template['features'][0]"
   ]
  },
  {
   "cell_type": "code",
   "execution_count": null,
   "metadata": {},
   "outputs": [],
   "source": []
  }
 ],
 "metadata": {
  "kernelspec": {
   "display_name": "Python 3",
   "language": "python",
   "name": "python3"
  },
  "language_info": {
   "codemirror_mode": {
    "name": "ipython",
    "version": 3
   },
   "file_extension": ".py",
   "mimetype": "text/x-python",
   "name": "python",
   "nbconvert_exporter": "python",
   "pygments_lexer": "ipython3",
   "version": "3.6.4"
  }
 },
 "nbformat": 4,
 "nbformat_minor": 2
}
