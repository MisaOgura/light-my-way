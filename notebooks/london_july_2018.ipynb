{
 "cells": [
  {
   "cell_type": "code",
   "execution_count": 1,
   "metadata": {},
   "outputs": [],
   "source": [
    "import pandas as pd"
   ]
  },
  {
   "cell_type": "markdown",
   "metadata": {},
   "source": [
    "## Overview of Met Police dataset (on street crime)"
   ]
  },
  {
   "cell_type": "code",
   "execution_count": 2,
   "metadata": {},
   "outputs": [
    {
     "name": "stdout",
     "output_type": "stream",
     "text": [
      "<class 'pandas.core.frame.DataFrame'>\n",
      "Int64Index: 94577 entries, 0 to 94576\n",
      "Data columns (total 12 columns):\n",
      "Crime ID                 73388 non-null object\n",
      "Month                    94577 non-null object\n",
      "Reported by              94577 non-null object\n",
      "Falls within             94577 non-null object\n",
      "Longitude                94577 non-null float64\n",
      "Latitude                 94577 non-null float64\n",
      "Location                 94577 non-null object\n",
      "LSOA code                94577 non-null object\n",
      "LSOA name                94577 non-null object\n",
      "Crime type               94577 non-null object\n",
      "Last outcome category    73388 non-null object\n",
      "Context                  0 non-null float64\n",
      "dtypes: float64(3), object(9)\n",
      "memory usage: 9.4+ MB\n",
      "None\n"
     ]
    },
    {
     "data": {
      "text/html": [
       "<div>\n",
       "<style scoped>\n",
       "    .dataframe tbody tr th:only-of-type {\n",
       "        vertical-align: middle;\n",
       "    }\n",
       "\n",
       "    .dataframe tbody tr th {\n",
       "        vertical-align: top;\n",
       "    }\n",
       "\n",
       "    .dataframe thead th {\n",
       "        text-align: right;\n",
       "    }\n",
       "</style>\n",
       "<table border=\"1\" class=\"dataframe\">\n",
       "  <thead>\n",
       "    <tr style=\"text-align: right;\">\n",
       "      <th></th>\n",
       "      <th>Crime ID</th>\n",
       "      <th>Month</th>\n",
       "      <th>Reported by</th>\n",
       "      <th>Falls within</th>\n",
       "      <th>Longitude</th>\n",
       "      <th>Latitude</th>\n",
       "      <th>Location</th>\n",
       "      <th>LSOA code</th>\n",
       "      <th>LSOA name</th>\n",
       "      <th>Crime type</th>\n",
       "      <th>Last outcome category</th>\n",
       "      <th>Context</th>\n",
       "    </tr>\n",
       "  </thead>\n",
       "  <tbody>\n",
       "    <tr>\n",
       "      <th>0</th>\n",
       "      <td>e9fe81ec7a6f5d2a80445f04be3d7e92831dbf3090744e...</td>\n",
       "      <td>2018-07</td>\n",
       "      <td>Metropolitan Police Service</td>\n",
       "      <td>Metropolitan Police Service</td>\n",
       "      <td>0.774271</td>\n",
       "      <td>51.148147</td>\n",
       "      <td>On or near Bethersden Road</td>\n",
       "      <td>E01024031</td>\n",
       "      <td>Ashford 012B</td>\n",
       "      <td>Other theft</td>\n",
       "      <td>Under investigation</td>\n",
       "      <td>NaN</td>\n",
       "    </tr>\n",
       "    <tr>\n",
       "      <th>1</th>\n",
       "      <td>076b796ba1e1ba3f69c9144e2aa7a7bc85b61d51bf7a59...</td>\n",
       "      <td>2018-07</td>\n",
       "      <td>Metropolitan Police Service</td>\n",
       "      <td>Metropolitan Police Service</td>\n",
       "      <td>-1.007293</td>\n",
       "      <td>51.893136</td>\n",
       "      <td>On or near Prison</td>\n",
       "      <td>E01017674</td>\n",
       "      <td>Aylesbury Vale 010D</td>\n",
       "      <td>Other crime</td>\n",
       "      <td>Awaiting court outcome</td>\n",
       "      <td>NaN</td>\n",
       "    </tr>\n",
       "    <tr>\n",
       "      <th>2</th>\n",
       "      <td>163e996d58995cf87d14f15711fbd87052681919f02029...</td>\n",
       "      <td>2018-07</td>\n",
       "      <td>Metropolitan Police Service</td>\n",
       "      <td>Metropolitan Police Service</td>\n",
       "      <td>0.744706</td>\n",
       "      <td>52.038219</td>\n",
       "      <td>On or near Hillside Road</td>\n",
       "      <td>E01029918</td>\n",
       "      <td>Babergh 007F</td>\n",
       "      <td>Violence and sexual offences</td>\n",
       "      <td>Under investigation</td>\n",
       "      <td>NaN</td>\n",
       "    </tr>\n",
       "    <tr>\n",
       "      <th>3</th>\n",
       "      <td>NaN</td>\n",
       "      <td>2018-07</td>\n",
       "      <td>Metropolitan Police Service</td>\n",
       "      <td>Metropolitan Police Service</td>\n",
       "      <td>0.137065</td>\n",
       "      <td>51.583672</td>\n",
       "      <td>On or near Police Station</td>\n",
       "      <td>E01000027</td>\n",
       "      <td>Barking and Dagenham 001A</td>\n",
       "      <td>Anti-social behaviour</td>\n",
       "      <td>NaN</td>\n",
       "      <td>NaN</td>\n",
       "    </tr>\n",
       "    <tr>\n",
       "      <th>4</th>\n",
       "      <td>NaN</td>\n",
       "      <td>2018-07</td>\n",
       "      <td>Metropolitan Police Service</td>\n",
       "      <td>Metropolitan Police Service</td>\n",
       "      <td>0.148434</td>\n",
       "      <td>51.595164</td>\n",
       "      <td>On or near Park/Open Space</td>\n",
       "      <td>E01000027</td>\n",
       "      <td>Barking and Dagenham 001A</td>\n",
       "      <td>Anti-social behaviour</td>\n",
       "      <td>NaN</td>\n",
       "      <td>NaN</td>\n",
       "    </tr>\n",
       "  </tbody>\n",
       "</table>\n",
       "</div>"
      ],
      "text/plain": [
       "                                            Crime ID    Month  \\\n",
       "0  e9fe81ec7a6f5d2a80445f04be3d7e92831dbf3090744e...  2018-07   \n",
       "1  076b796ba1e1ba3f69c9144e2aa7a7bc85b61d51bf7a59...  2018-07   \n",
       "2  163e996d58995cf87d14f15711fbd87052681919f02029...  2018-07   \n",
       "3                                                NaN  2018-07   \n",
       "4                                                NaN  2018-07   \n",
       "\n",
       "                   Reported by                 Falls within  Longitude  \\\n",
       "0  Metropolitan Police Service  Metropolitan Police Service   0.774271   \n",
       "1  Metropolitan Police Service  Metropolitan Police Service  -1.007293   \n",
       "2  Metropolitan Police Service  Metropolitan Police Service   0.744706   \n",
       "3  Metropolitan Police Service  Metropolitan Police Service   0.137065   \n",
       "4  Metropolitan Police Service  Metropolitan Police Service   0.148434   \n",
       "\n",
       "    Latitude                    Location  LSOA code  \\\n",
       "0  51.148147  On or near Bethersden Road  E01024031   \n",
       "1  51.893136           On or near Prison  E01017674   \n",
       "2  52.038219    On or near Hillside Road  E01029918   \n",
       "3  51.583672   On or near Police Station  E01000027   \n",
       "4  51.595164  On or near Park/Open Space  E01000027   \n",
       "\n",
       "                   LSOA name                    Crime type  \\\n",
       "0               Ashford 012B                   Other theft   \n",
       "1        Aylesbury Vale 010D                   Other crime   \n",
       "2               Babergh 007F  Violence and sexual offences   \n",
       "3  Barking and Dagenham 001A         Anti-social behaviour   \n",
       "4  Barking and Dagenham 001A         Anti-social behaviour   \n",
       "\n",
       "    Last outcome category  Context  \n",
       "0     Under investigation      NaN  \n",
       "1  Awaiting court outcome      NaN  \n",
       "2     Under investigation      NaN  \n",
       "3                     NaN      NaN  \n",
       "4                     NaN      NaN  "
      ]
     },
     "execution_count": 2,
     "metadata": {},
     "output_type": "execute_result"
    }
   ],
   "source": [
    "met_df = pd.read_csv('../data/metpolice/2018-07-metropolitan-street.csv').dropna(subset=['Longitude', 'Latitude'])\n",
    "\n",
    "print(met_df.info())\n",
    "\n",
    "met_df.head()"
   ]
  },
  {
   "cell_type": "markdown",
   "metadata": {},
   "source": [
    "## Get crime frequency per coordiate"
   ]
  },
  {
   "cell_type": "code",
   "execution_count": 3,
   "metadata": {},
   "outputs": [],
   "source": [
    "met_df['Coordinate'] = met_df.apply(lambda x: (x['Longitude'], x['Latitude']), axis=1)"
   ]
  },
  {
   "cell_type": "code",
   "execution_count": 4,
   "metadata": {},
   "outputs": [
    {
     "data": {
      "text/plain": [
       "33287"
      ]
     },
     "execution_count": 4,
     "metadata": {},
     "output_type": "execute_result"
    }
   ],
   "source": [
    "crime_freq = met_df.groupby('Coordinate').size()\n",
    "crime_freq.count()"
   ]
  },
  {
   "cell_type": "code",
   "execution_count": 5,
   "metadata": {},
   "outputs": [
    {
     "data": {
      "text/plain": [
       "Coordinate\n",
       "(-5.482662, 50.211896)              2\n",
       "(-3.3954779999999998, 51.951301)    1\n",
       "(-3.191991, 51.46346)               1\n",
       "(-3.016167, 53.3255)                1\n",
       "(-2.9570790000000002, 53.473227)    1\n",
       "dtype: int64"
      ]
     },
     "execution_count": 5,
     "metadata": {},
     "output_type": "execute_result"
    }
   ],
   "source": [
    "crime_freq.head()"
   ]
  },
  {
   "cell_type": "code",
   "execution_count": 6,
   "metadata": {},
   "outputs": [
    {
     "name": "stdout",
     "output_type": "stream",
     "text": [
      "1\n",
      "239\n"
     ]
    }
   ],
   "source": [
    "print(crime_freq.min())\n",
    "print(crime_freq.max())"
   ]
  },
  {
   "cell_type": "markdown",
   "metadata": {},
   "source": [
    "## Convert data to GeoJSON in order to use Mapbox API"
   ]
  },
  {
   "cell_type": "code",
   "execution_count": 7,
   "metadata": {},
   "outputs": [],
   "source": [
    "import json\n",
    "\n",
    "with open('./template.geojson', 'r') as template:\n",
    "    template = json.load(template)\n",
    "    \n",
    "    for index, value in crime_freq.iteritems():\n",
    "        data = {\n",
    "            'type': 'Feature',\n",
    "            'properties': {\n",
    "                'crimes': value\n",
    "            },\n",
    "            'geometry': {\n",
    "                'type': 'Point',\n",
    "                'coordinates': [index[0], index[1]]\n",
    "            }\n",
    "        }\n",
    "        \n",
    "        template['features'].append(data)\n",
    "\n",
    "with open('../london_july_2018.geojson', 'w') as output:\n",
    "    json.dump(template, output)"
   ]
  }
 ],
 "metadata": {
  "kernelspec": {
   "display_name": "Python 3",
   "language": "python",
   "name": "python3"
  },
  "language_info": {
   "codemirror_mode": {
    "name": "ipython",
    "version": 3
   },
   "file_extension": ".py",
   "mimetype": "text/x-python",
   "name": "python",
   "nbconvert_exporter": "python",
   "pygments_lexer": "ipython3",
   "version": "3.6.4"
  }
 },
 "nbformat": 4,
 "nbformat_minor": 2
}
